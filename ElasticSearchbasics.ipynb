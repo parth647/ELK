{
 "cells": [
  {
   "cell_type": "markdown",
   "id": "147f89e5-79ba-4832-82ce-cdcb4ca8c29c",
   "metadata": {},
   "source": [
    "### Import Libraries"
   ]
  },
  {
   "cell_type": "code",
   "execution_count": null,
   "id": "8efaa67b-ac60-48f0-a435-7f0706f19eee",
   "metadata": {},
   "outputs": [],
   "source": []
  },
  {
   "cell_type": "code",
   "execution_count": 38,
   "id": "394185c9-01f3-4436-8d38-fc69efb81e08",
   "metadata": {},
   "outputs": [],
   "source": [
    "try:\n",
    "    from elasticsearch import Elasticsearch,helpers\n",
    "    import os\n",
    "    import sys\n",
    "    import elasticsearch\n",
    "    import pandas as pd\n",
    "except Exception as e:\n",
    "    print(\"The following error occured:\",e)"
   ]
  },
  {
   "cell_type": "code",
   "execution_count": 43,
   "id": "a5fe19cd-08f8-4ed4-90e7-1e898163a990",
   "metadata": {},
   "outputs": [],
   "source": [
    "\n",
    "es = Elasticsearch()"
   ]
  },
  {
   "cell_type": "code",
   "execution_count": 5,
   "id": "228beb70-14a4-458d-97f8-31a2c79e198c",
   "metadata": {},
   "outputs": [
    {
     "name": "stdout",
     "output_type": "stream",
     "text": [
      ".ipynb_checkpoints\n",
      "data\n",
      "ElasticSearchbasics.ipynb\n",
      "nlpextractor.ipynb\n",
      "Untitled.ipynb\n"
     ]
    }
   ],
   "source": [
    "for filename in os.listdir():\n",
    "    print(filename)"
   ]
  },
  {
   "cell_type": "markdown",
   "id": "24dcad99-55d0-4479-8ea2-4432de3c4bf7",
   "metadata": {},
   "source": [
    "### Import File and check nulls"
   ]
  },
  {
   "cell_type": "code",
   "execution_count": 20,
   "id": "ae4225e6-a223-4497-821d-afdb94cea482",
   "metadata": {},
   "outputs": [
    {
     "name": "stdout",
     "output_type": "stream",
     "text": [
      "UPI Banks                   0\n",
      "Volume (Mn) By Costumers    0\n",
      "Value (Cr) by Costumers     0\n",
      "Volume (Mn)                 0\n",
      "Value (Cr)                  0\n",
      "Month                       0\n",
      "Year                        0\n",
      "dtype: int64\n"
     ]
    }
   ],
   "source": [
    "df = pd.read_csv(\"./data/upi/upi.csv\")\n",
    "print(df.isnull().sum())"
   ]
  },
  {
   "cell_type": "code",
   "execution_count": 19,
   "id": "90bf9449-784f-445c-9748-a06dd8d3b4fa",
   "metadata": {},
   "outputs": [
    {
     "data": {
      "text/html": [
       "<div>\n",
       "<style scoped>\n",
       "    .dataframe tbody tr th:only-of-type {\n",
       "        vertical-align: middle;\n",
       "    }\n",
       "\n",
       "    .dataframe tbody tr th {\n",
       "        vertical-align: top;\n",
       "    }\n",
       "\n",
       "    .dataframe thead th {\n",
       "        text-align: right;\n",
       "    }\n",
       "</style>\n",
       "<table border=\"1\" class=\"dataframe\">\n",
       "  <thead>\n",
       "    <tr style=\"text-align: right;\">\n",
       "      <th></th>\n",
       "      <th>UPI Banks</th>\n",
       "      <th>Volume (Mn) By Costumers</th>\n",
       "      <th>Value (Cr) by Costumers</th>\n",
       "      <th>Volume (Mn)</th>\n",
       "      <th>Value (Cr)</th>\n",
       "      <th>Month</th>\n",
       "      <th>Year</th>\n",
       "    </tr>\n",
       "  </thead>\n",
       "  <tbody>\n",
       "    <tr>\n",
       "      <th>0</th>\n",
       "      <td>Airtel Payments Bank Apps</td>\n",
       "      <td>9.04</td>\n",
       "      <td>2248.49</td>\n",
       "      <td>15.12</td>\n",
       "      <td>5732.09</td>\n",
       "      <td>12</td>\n",
       "      <td>2021</td>\n",
       "    </tr>\n",
       "    <tr>\n",
       "      <th>1</th>\n",
       "      <td>Airtel Payments Bank Apps</td>\n",
       "      <td>8.41</td>\n",
       "      <td>1923.95</td>\n",
       "      <td>15.90</td>\n",
       "      <td>5554.63</td>\n",
       "      <td>11</td>\n",
       "      <td>2021</td>\n",
       "    </tr>\n",
       "    <tr>\n",
       "      <th>2</th>\n",
       "      <td>Airtel Payments Bank Apps</td>\n",
       "      <td>7.60</td>\n",
       "      <td>1491.34</td>\n",
       "      <td>14.31</td>\n",
       "      <td>4746.79</td>\n",
       "      <td>10</td>\n",
       "      <td>2021</td>\n",
       "    </tr>\n",
       "    <tr>\n",
       "      <th>3</th>\n",
       "      <td>Airtel Payments Bank Apps</td>\n",
       "      <td>6.91</td>\n",
       "      <td>1520.92</td>\n",
       "      <td>11.52</td>\n",
       "      <td>3759.12</td>\n",
       "      <td>9</td>\n",
       "      <td>2021</td>\n",
       "    </tr>\n",
       "    <tr>\n",
       "      <th>4</th>\n",
       "      <td>Airtel Payments Bank Apps</td>\n",
       "      <td>6.14</td>\n",
       "      <td>1396.65</td>\n",
       "      <td>9.31</td>\n",
       "      <td>2941.88</td>\n",
       "      <td>8</td>\n",
       "      <td>2021</td>\n",
       "    </tr>\n",
       "  </tbody>\n",
       "</table>\n",
       "</div>"
      ],
      "text/plain": [
       "                   UPI Banks  Volume (Mn) By Costumers  \\\n",
       "0  Airtel Payments Bank Apps                      9.04   \n",
       "1  Airtel Payments Bank Apps                      8.41   \n",
       "2  Airtel Payments Bank Apps                      7.60   \n",
       "3  Airtel Payments Bank Apps                      6.91   \n",
       "4  Airtel Payments Bank Apps                      6.14   \n",
       "\n",
       "   Value (Cr) by Costumers  Volume (Mn)  Value (Cr)  Month  Year  \n",
       "0                  2248.49        15.12     5732.09     12  2021  \n",
       "1                  1923.95        15.90     5554.63     11  2021  \n",
       "2                  1491.34        14.31     4746.79     10  2021  \n",
       "3                  1520.92        11.52     3759.12      9  2021  \n",
       "4                  1396.65         9.31     2941.88      8  2021  "
      ]
     },
     "execution_count": 19,
     "metadata": {},
     "output_type": "execute_result"
    }
   ],
   "source": [
    "df.head()"
   ]
  },
  {
   "cell_type": "markdown",
   "id": "2eeb448d-7b83-45d4-bc06-97fbf8cf0248",
   "metadata": {},
   "source": [
    "### Convert file to right format\n",
    "Right format should have the following attributes\n",
    "<li>Dict format</li>\n",
    "<li>Unique ID</li>"
   ]
  },
  {
   "cell_type": "code",
   "execution_count": 22,
   "id": "deda8900-8ba0-4cfc-8670-09e3b58ac2f9",
   "metadata": {},
   "outputs": [],
   "source": [
    "global c \n",
    "c = 0\n",
    "def ids(x):\n",
    "    global c\n",
    "    c = c+1\n",
    "    return c\n",
    "    \n",
    "    "
   ]
  },
  {
   "cell_type": "code",
   "execution_count": 23,
   "id": "93a570a7-c3c3-4216-ab0b-b36a0187e21e",
   "metadata": {},
   "outputs": [],
   "source": [
    "df[\"ID\"] = df[\"Month\"].apply(ids)"
   ]
  },
  {
   "cell_type": "code",
   "execution_count": 25,
   "id": "1414aceb-9151-46ca-a3ac-231af24a9a2e",
   "metadata": {},
   "outputs": [],
   "source": [
    "df2 = df.to_dict('records')"
   ]
  },
  {
   "cell_type": "code",
   "execution_count": 26,
   "id": "4f6e2f16-cb98-4de3-ae0c-cab94bf62fd2",
   "metadata": {},
   "outputs": [
    {
     "name": "stdout",
     "output_type": "stream",
     "text": [
      "0 {'UPI Banks': 'Airtel Payments Bank Apps', 'Volume (Mn) By Costumers': 9.04, 'Value (Cr) by Costumers': 2248.49, 'Volume (Mn)': 15.12, 'Value (Cr)': 5732.09, 'Month': 12, 'Year': 2021, 'ID': 1}\n"
     ]
    }
   ],
   "source": [
    "for c,line in enumerate(df2):\n",
    "    print(c,line)\n",
    "    break\n",
    "    "
   ]
  },
  {
   "cell_type": "code",
   "execution_count": 35,
   "id": "bd1bc3f9-2fc1-4a26-af0f-399c514d7cc0",
   "metadata": {},
   "outputs": [],
   "source": [
    "def generator(df2,database_name,table_name,id_column):\n",
    "    for c,line in enumerate(df2):\n",
    "        yield{\n",
    "            '_index' : database_name,\n",
    "            '_type' : table_name,\n",
    "            '_id': line.get(id_column),\n",
    "            '_source': {\n",
    "                'UPI Banks':line.get('UPI Banks',['No Data']),\n",
    "                'Volume (Mn) By Customers':line.get('Volume (Mn) By Costumers',['No Data']),\n",
    "                'Value (Cr) by Costumers':line.get('Value (Cr) by Costumers',['No Data']),\n",
    "                'Value (Cr)':line.get('Value (Cr)',['No Data']),\n",
    "                'Month': line.get('Month',['No Data']),\n",
    "                'Year': line.get('Year',['No Data'])\n",
    "                \n",
    "                # get returns the value of a key\n",
    "                        \n",
    "            }\n",
    "        }\n",
    "    raise StopIteration\n",
    "    "
   ]
  },
  {
   "cell_type": "code",
   "execution_count": 36,
   "id": "f1593834-73a6-4a0a-83f5-a1156cc183b6",
   "metadata": {},
   "outputs": [],
   "source": [
    "gen = generator(df2,\"UPI_test\",\"UPI\",\"ID\")"
   ]
  },
  {
   "cell_type": "code",
   "execution_count": 37,
   "id": "78ef0362-35eb-4d4f-bb65-08bf7214aa7e",
   "metadata": {},
   "outputs": [
    {
     "data": {
      "text/plain": [
       "{'_index': 'UPI_test',\n",
       " '_type': 'UPI',\n",
       " '_id': 1,\n",
       " '_source': {'UPI Banks': 'Airtel Payments Bank Apps',\n",
       "  'Volume (Mn) By Customers': 9.04,\n",
       "  'Value (Cr) by Costumers': 2248.49,\n",
       "  'Value (Cr)': 5732.09,\n",
       "  'Month': 12,\n",
       "  'Year': 2021}}"
      ]
     },
     "execution_count": 37,
     "metadata": {},
     "output_type": "execute_result"
    }
   ],
   "source": [
    "next(gen)"
   ]
  },
  {
   "cell_type": "code",
   "execution_count": 51,
   "id": "eea05a89-ae3e-4b5a-a02e-884ca635b087",
   "metadata": {},
   "outputs": [
    {
     "name": "stderr",
     "output_type": "stream",
     "text": [
      "C:\\Users\\parth\\AppData\\Local\\Programs\\Python\\Python310\\lib\\site-packages\\elasticsearch\\connection\\base.py:200: ElasticsearchWarning: Elasticsearch built-in security features are not enabled. Without authentication, your cluster could be accessible to anyone. See https://www.elastic.co/guide/en/elasticsearch/reference/7.16/security-minimal-setup.html to enable security.\n",
      "  warnings.warn(message, category=ElasticsearchWarning)\n"
     ]
    },
    {
     "data": {
      "text/plain": [
       "{'acknowledged': True, 'shards_acknowledged': True, 'index': 'upi_test'}"
      ]
     },
     "execution_count": 51,
     "metadata": {},
     "output_type": "execute_result"
    }
   ],
   "source": [
    "es.indices.create(index=\"upi_test\",ignore = 400)"
   ]
  },
  {
   "cell_type": "code",
   "execution_count": 53,
   "id": "90c4c480-9a0e-4117-a4fe-a067a9e7a9bd",
   "metadata": {},
   "outputs": [
    {
     "name": "stdout",
     "output_type": "stream",
     "text": [
      "Done generator raised StopIteration\n"
     ]
    }
   ],
   "source": [
    "try:\n",
    "    res = helpers.bulk(es,generator(df2,\"upi_test\",\"upi\",\"ID\"))\n",
    "    print(\"Working\")\n",
    "    \n",
    "except Exception as e:\n",
    "    print(\"Done\",e)"
   ]
  },
  {
   "cell_type": "code",
   "execution_count": null,
   "id": "c6b85d33-1cbf-4473-96fb-55cee45619b3",
   "metadata": {},
   "outputs": [],
   "source": [
    "try:\n",
    "    res = helpers.bulk(es,"
   ]
  },
  {
   "cell_type": "code",
   "execution_count": 13,
   "id": "1e41ed42-da89-4b02-8460-166c3479f1b4",
   "metadata": {},
   "outputs": [],
   "source": [
    "# Database setup"
   ]
  },
  {
   "cell_type": "code",
   "execution_count": 11,
   "id": "cd37e5a9-3319-4c44-8c8d-0d5d26f0590e",
   "metadata": {},
   "outputs": [
    {
     "name": "stdout",
     "output_type": "stream",
     "text": [
      "connected\n"
     ]
    },
    {
     "data": {
      "text/plain": [
       "<Elasticsearch([{'host': 'localhost', 'port': 9200}])>"
      ]
     },
     "execution_count": 11,
     "metadata": {},
     "output_type": "execute_result"
    }
   ],
   "source": [
    "#Lets connect to the server, we are using the python client to do so\n",
    "\n",
    "def connect_database():\n",
    "    es = None\n",
    "    es = Elasticsearch([{'host':'localhost','port':9200}])\n",
    "    if es.ping():\n",
    "        print(\"connected\")\n",
    "    else:\n",
    "        print(\"Failed\")\n",
    "    return es\n",
    "connect_database()"
   ]
  },
  {
   "cell_type": "code",
   "execution_count": 14,
   "id": "dad90dcb-49e4-4803-8cee-7c1b538061ed",
   "metadata": {},
   "outputs": [
    {
     "name": "stderr",
     "output_type": "stream",
     "text": [
      "C:\\Users\\parth\\AppData\\Local\\Programs\\Python\\Python310\\lib\\site-packages\\elasticsearch\\connection\\base.py:200: ElasticsearchWarning: Elasticsearch built-in security features are not enabled. Without authentication, your cluster could be accessible to anyone. See https://www.elastic.co/guide/en/elasticsearch/reference/7.16/security-minimal-setup.html to enable security.\n",
      "  warnings.warn(message, category=ElasticsearchWarning)\n"
     ]
    },
    {
     "data": {
      "text/plain": [
       "{'acknowledged': True, 'shards_acknowledged': True, 'index': 'mydatabasename'}"
      ]
     },
     "execution_count": 14,
     "metadata": {},
     "output_type": "execute_result"
    }
   ],
   "source": [
    "es.indices.create(index = \"mydatabasename\",ignore = 400)"
   ]
  },
  {
   "cell_type": "code",
   "execution_count": 17,
   "id": "b0514fb6-2ca2-4e46-8385-918d1497dff0",
   "metadata": {},
   "outputs": [
    {
     "name": "stdout",
     "output_type": "stream",
     "text": [
      ".kibana-event-log-7.16.3-000001\n",
      ".kibana_7.16.3_001\n",
      ".apm-custom-link\n",
      ".kibana_task_manager_7.16.3_001\n",
      ".apm-agent-configuration\n"
     ]
    },
    {
     "name": "stderr",
     "output_type": "stream",
     "text": [
      "C:\\Users\\parth\\AppData\\Local\\Temp\\ipykernel_17844\\516184771.py:1: DeprecationWarning: Using positional arguments for APIs is deprecated and will be disabled in 8.0.0. Instead use only keyword arguments for all APIs. See https://github.com/elastic/elasticsearch-py/issues/1698 for more information\n",
      "  res = es.indices.get_alias(\"*\")\n",
      "C:\\Users\\parth\\AppData\\Local\\Programs\\Python\\Python310\\lib\\site-packages\\elasticsearch\\connection\\base.py:200: ElasticsearchWarning: this request accesses system indices: [.kibana_7.16.3_001, .apm-custom-link, .kibana_task_manager_7.16.3_001, .apm-agent-configuration], but in a future major version, direct access to system indices will be prevented by default\n",
      "  warnings.warn(message, category=ElasticsearchWarning)\n"
     ]
    }
   ],
   "source": [
    "res = es.indices.get_alias(\"*\")\n",
    "for name in res:\n",
    "    print(name)"
   ]
  },
  {
   "cell_type": "code",
   "execution_count": 16,
   "id": "1417e588-f18f-4d04-82be-6fc16f5751ea",
   "metadata": {},
   "outputs": [
    {
     "name": "stderr",
     "output_type": "stream",
     "text": [
      "C:\\Users\\parth\\AppData\\Local\\Programs\\Python\\Python310\\lib\\site-packages\\elasticsearch\\connection\\base.py:200: ElasticsearchWarning: Elasticsearch built-in security features are not enabled. Without authentication, your cluster could be accessible to anyone. See https://www.elastic.co/guide/en/elasticsearch/reference/7.16/security-minimal-setup.html to enable security.\n",
      "  warnings.warn(message, category=ElasticsearchWarning)\n"
     ]
    },
    {
     "data": {
      "text/plain": [
       "{'acknowledged': True}"
      ]
     },
     "execution_count": 16,
     "metadata": {},
     "output_type": "execute_result"
    }
   ],
   "source": [
    "es.indices.delete(index='mydatabasename',ignore = [400,404])"
   ]
  },
  {
   "cell_type": "markdown",
   "id": "0c6774c0-62ff-4ef8-bbe6-d2f48a6c8224",
   "metadata": {},
   "source": [
    "## Inserting data into kibana"
   ]
  },
  {
   "cell_type": "code",
   "execution_count": 19,
   "id": "29cf4546-4eb2-4594-a6e9-57774a9be74b",
   "metadata": {},
   "outputs": [],
   "source": [
    "record1 = {\n",
    "    \"name\" : \"Parth\",\n",
    "    \"age\" :26,\n",
    "    \n",
    "    \n",
    "}\n",
    "record2 = {\n",
    "    \"name\" : \"Samarth\",\n",
    "    \"age\" :20,\n",
    "    \n",
    "    \n",
    "}"
   ]
  },
  {
   "cell_type": "code",
   "execution_count": 20,
   "id": "ee97ad29-bce8-459b-a3ba-2958ad913dcf",
   "metadata": {},
   "outputs": [
    {
     "name": "stderr",
     "output_type": "stream",
     "text": [
      "C:\\Users\\parth\\AppData\\Local\\Programs\\Python\\Python310\\lib\\site-packages\\elasticsearch\\connection\\base.py:200: ElasticsearchWarning: Elasticsearch built-in security features are not enabled. Without authentication, your cluster could be accessible to anyone. See https://www.elastic.co/guide/en/elasticsearch/reference/7.16/security-minimal-setup.html to enable security.\n",
      "  warnings.warn(message, category=ElasticsearchWarning)\n"
     ]
    },
    {
     "data": {
      "text/plain": [
       "{'acknowledged': True, 'shards_acknowledged': True, 'index': 'person'}"
      ]
     },
     "execution_count": 20,
     "metadata": {},
     "output_type": "execute_result"
    }
   ],
   "source": [
    "es.indices.create(index=\"person\",ignore = 400)"
   ]
  },
  {
   "cell_type": "code",
   "execution_count": 22,
   "id": "ccffb1de-34ea-427e-8fff-4bdfdecf8207",
   "metadata": {},
   "outputs": [
    {
     "name": "stderr",
     "output_type": "stream",
     "text": [
      "C:\\Users\\parth\\AppData\\Local\\Temp\\ipykernel_17844\\1122659154.py:1: DeprecationWarning: The 'body' parameter is deprecated for the 'index' API and will be removed in a future version. Instead use the 'document' parameter. See https://github.com/elastic/elasticsearch-py/issues/1698 for more information\n",
      "  resp = es.index(index = \"person\",doc_type='people',body = record1)\n",
      "C:\\Users\\parth\\AppData\\Local\\Programs\\Python\\Python310\\lib\\site-packages\\elasticsearch\\connection\\base.py:200: ElasticsearchWarning: Elasticsearch built-in security features are not enabled. Without authentication, your cluster could be accessible to anyone. See https://www.elastic.co/guide/en/elasticsearch/reference/7.16/security-minimal-setup.html to enable security.\n",
      "  warnings.warn(message, category=ElasticsearchWarning)\n",
      "C:\\Users\\parth\\AppData\\Local\\Programs\\Python\\Python310\\lib\\site-packages\\elasticsearch\\connection\\base.py:200: ElasticsearchWarning: [types removal] Specifying types in document index requests is deprecated, use the typeless endpoints instead (/{index}/_doc/{id}, /{index}/_doc, or /{index}/_create/{id}).\n",
      "  warnings.warn(message, category=ElasticsearchWarning)\n"
     ]
    }
   ],
   "source": [
    "resp = es.index(index = \"person\",doc_type='people',body = record1)"
   ]
  },
  {
   "cell_type": "code",
   "execution_count": 23,
   "id": "7c91c06e-f718-4448-b254-e65a4d3a158f",
   "metadata": {},
   "outputs": [
    {
     "data": {
      "text/plain": [
       "{'_index': 'person',\n",
       " '_type': 'people',\n",
       " '_id': 'VYftdX4BEJxbtSWNh2sf',\n",
       " '_version': 1,\n",
       " 'result': 'created',\n",
       " '_shards': {'total': 2, 'successful': 1, 'failed': 0},\n",
       " '_seq_no': 0,\n",
       " '_primary_term': 1}"
      ]
     },
     "execution_count": 23,
     "metadata": {},
     "output_type": "execute_result"
    }
   ],
   "source": [
    "resp"
   ]
  },
  {
   "cell_type": "code",
   "execution_count": 25,
   "id": "14570a31-7b17-49fb-a16c-deb560a05b7e",
   "metadata": {},
   "outputs": [
    {
     "name": "stderr",
     "output_type": "stream",
     "text": [
      "C:\\Users\\parth\\AppData\\Local\\Temp\\ipykernel_17844\\4077621928.py:7: DeprecationWarning: The 'body' parameter is deprecated for the 'search' API and will be removed in a future version. Instead use API parameters directly. See https://github.com/elastic/elasticsearch-py/issues/1698 for more information\n",
      "  res = es.search(index='person',body = query   )\n",
      "C:\\Users\\parth\\AppData\\Local\\Programs\\Python\\Python310\\lib\\site-packages\\elasticsearch\\connection\\base.py:200: ElasticsearchWarning: Elasticsearch built-in security features are not enabled. Without authentication, your cluster could be accessible to anyone. See https://www.elastic.co/guide/en/elasticsearch/reference/7.16/security-minimal-setup.html to enable security.\n",
      "  warnings.warn(message, category=ElasticsearchWarning)\n"
     ]
    }
   ],
   "source": [
    "query = {\n",
    "    \"query\" : {\n",
    "        \"match_all\":{}\n",
    "    }\n",
    "}\n",
    "    \n",
    "res = es.search(index='person',body = query   )"
   ]
  },
  {
   "cell_type": "code",
   "execution_count": 29,
   "id": "75a41ec5-f652-4382-8957-4bcdb78d022c",
   "metadata": {},
   "outputs": [],
   "source": [
    "data = data['hits']"
   ]
  },
  {
   "cell_type": "code",
   "execution_count": 33,
   "id": "791610c0-72b2-434a-9bbd-16878a446819",
   "metadata": {},
   "outputs": [],
   "source": [
    "df = pd.DataFrame(data)"
   ]
  },
  {
   "cell_type": "code",
   "execution_count": 34,
   "id": "d01f10d5-a981-4440-ae06-726347f77b4d",
   "metadata": {},
   "outputs": [
    {
     "data": {
      "text/html": [
       "<div>\n",
       "<style scoped>\n",
       "    .dataframe tbody tr th:only-of-type {\n",
       "        vertical-align: middle;\n",
       "    }\n",
       "\n",
       "    .dataframe tbody tr th {\n",
       "        vertical-align: top;\n",
       "    }\n",
       "\n",
       "    .dataframe thead th {\n",
       "        text-align: right;\n",
       "    }\n",
       "</style>\n",
       "<table border=\"1\" class=\"dataframe\">\n",
       "  <thead>\n",
       "    <tr style=\"text-align: right;\">\n",
       "      <th></th>\n",
       "      <th>_index</th>\n",
       "      <th>_type</th>\n",
       "      <th>_id</th>\n",
       "      <th>_score</th>\n",
       "      <th>_source</th>\n",
       "    </tr>\n",
       "  </thead>\n",
       "  <tbody>\n",
       "    <tr>\n",
       "      <th>0</th>\n",
       "      <td>person</td>\n",
       "      <td>people</td>\n",
       "      <td>VYftdX4BEJxbtSWNh2sf</td>\n",
       "      <td>1.0</td>\n",
       "      <td>{'name': 'Parth', 'age': 26}</td>\n",
       "    </tr>\n",
       "  </tbody>\n",
       "</table>\n",
       "</div>"
      ],
      "text/plain": [
       "   _index   _type                   _id  _score                       _source\n",
       "0  person  people  VYftdX4BEJxbtSWNh2sf     1.0  {'name': 'Parth', 'age': 26}"
      ]
     },
     "execution_count": 34,
     "metadata": {},
     "output_type": "execute_result"
    }
   ],
   "source": [
    "df"
   ]
  },
  {
   "cell_type": "code",
   "execution_count": null,
   "id": "d86e7f0c-a2dc-44c1-865a-21b89fbe7023",
   "metadata": {},
   "outputs": [],
   "source": []
  }
 ],
 "metadata": {
  "kernelspec": {
   "display_name": "Python 3 (ipykernel)",
   "language": "python",
   "name": "python3"
  },
  "language_info": {
   "codemirror_mode": {
    "name": "ipython",
    "version": 3
   },
   "file_extension": ".py",
   "mimetype": "text/x-python",
   "name": "python",
   "nbconvert_exporter": "python",
   "pygments_lexer": "ipython3",
   "version": "3.10.1"
  }
 },
 "nbformat": 4,
 "nbformat_minor": 5
}
